{
 "cells": [
  {
   "cell_type": "code",
   "execution_count": 1,
   "id": "2c927eb7",
   "metadata": {},
   "outputs": [],
   "source": [
    "import torch\n",
    "import torch.nn as nn\n",
    "import torchvision\n",
    "import torchvision.transforms as transforms\n",
    "import cv2\n",
    "import matplotlib.pyplot as plt"
   ]
  },
  {
   "cell_type": "code",
   "execution_count": 17,
   "id": "a09225d4",
   "metadata": {},
   "outputs": [],
   "source": [
    "# Define relevant variables for the ML task\n",
    "batch_size = 32\n",
    "num_classes = 10\n",
    "learning_rate = 0.001\n",
    "num_epochs = 10\n",
    "\n",
    "# Device will determine whether to run the training on GPU or CPU.\n",
    "device = torch.device('cuda' if torch.cuda.is_available() else 'cpu')"
   ]
  },
  {
   "cell_type": "code",
   "execution_count": 3,
   "id": "e7f1e96d",
   "metadata": {},
   "outputs": [],
   "source": [
    "#Loading the dataset and preprocessing\n",
    "train_dataset = torchvision.datasets.MNIST(root = './data',\n",
    "                                           train = True,\n",
    "                                           transform = transforms.Compose([\n",
    "                                                  transforms.Resize((32,32)),\n",
    "                                                  transforms.ToTensor(),\n",
    "                                                  transforms.Normalize(mean = (0.1307,), std = (0.3081,))]),\n",
    "                                           download = True)\n",
    "\n",
    "\n",
    "test_dataset = torchvision.datasets.MNIST(root = './data',\n",
    "                                          train = False,\n",
    "                                          transform = transforms.Compose([\n",
    "                                                  transforms.Resize((32,32)),\n",
    "                                                  transforms.ToTensor(),\n",
    "                                                  transforms.Normalize(mean = (0.1325,), std = (0.3105,))]),\n",
    "                                          download=True)\n",
    "\n",
    "\n",
    "train_loader = torch.utils.data.DataLoader(dataset = train_dataset,\n",
    "                                           batch_size = batch_size,\n",
    "                                           shuffle = True)\n",
    "\n",
    "\n",
    "test_loader = torch.utils.data.DataLoader(dataset = test_dataset,\n",
    "                                           batch_size = batch_size,\n",
    "                                           shuffle = True)"
   ]
  },
  {
   "cell_type": "code",
   "execution_count": 4,
   "id": "2b0d4374",
   "metadata": {},
   "outputs": [],
   "source": [
    "#Defining the convolutional neural network\n",
    "class LeNet5(nn.Module):\n",
    "    def __init__(self, num_classes):\n",
    "        super(LeNet5, self).__init__()\n",
    "        self.layer1 = nn.Sequential(\n",
    "            nn.Conv2d(1, 6, kernel_size=5, stride=1, padding=0),\n",
    "            nn.BatchNorm2d(6),\n",
    "            nn.ReLU(),\n",
    "            nn.MaxPool2d(kernel_size = 2, stride = 2))\n",
    "        self.layer2 = nn.Sequential(\n",
    "            nn.Conv2d(6, 16, kernel_size=5, stride=1, padding=0),\n",
    "            nn.BatchNorm2d(16),\n",
    "            nn.ReLU(),\n",
    "            nn.MaxPool2d(kernel_size = 2, stride = 2))\n",
    "        self.fc = nn.Linear(400, 120)\n",
    "        self.relu = nn.ReLU()\n",
    "        self.fc1 = nn.Linear(120, 84)\n",
    "        self.relu1 = nn.ReLU()\n",
    "        self.fc2 = nn.Linear(84, num_classes)\n",
    "        \n",
    "    def forward(self, x):\n",
    "        out = self.layer1(x)\n",
    "        out = self.layer2(out)\n",
    "        out = out.reshape(out.size(0), -1)\n",
    "        out = self.fc(out)\n",
    "        out = self.relu(out)\n",
    "        out = self.fc1(out)\n",
    "        out = self.relu1(out)\n",
    "        out = self.fc2(out)\n",
    "        return out"
   ]
  },
  {
   "cell_type": "code",
   "execution_count": 5,
   "id": "39b8c78e",
   "metadata": {},
   "outputs": [],
   "source": [
    "model = LeNet5(num_classes).to(device)\n",
    "\n",
    "#Setting the loss function\n",
    "cost = nn.CrossEntropyLoss()\n",
    "\n",
    "#Setting the optimizer with the model parameters and learning rate\n",
    "optimizer = torch.optim.Adam(model.parameters(), lr=learning_rate)\n",
    "# Adamw, SGD\n",
    "#this is defined to print how many steps are remaining when training\n",
    "total_step = len(train_loader)"
   ]
  },
  {
   "cell_type": "code",
   "execution_count": 6,
   "id": "9b2cbf7f",
   "metadata": {},
   "outputs": [
    {
     "name": "stdout",
     "output_type": "stream",
     "text": [
      "Epoch [1/10], Step [400/1875], Loss: 2.2939\n",
      "Epoch [1/10], Step [800/1875], Loss: 2.2969\n",
      "Epoch [1/10], Step [1200/1875], Loss: 2.3107\n",
      "Epoch [1/10], Step [1600/1875], Loss: 2.3205\n",
      "Epoch [2/10], Step [400/1875], Loss: 2.3421\n",
      "Epoch [2/10], Step [800/1875], Loss: 2.3163\n",
      "Epoch [2/10], Step [1200/1875], Loss: 2.3221\n",
      "Epoch [2/10], Step [1600/1875], Loss: 2.2846\n",
      "Epoch [3/10], Step [400/1875], Loss: 2.2685\n",
      "Epoch [3/10], Step [800/1875], Loss: 2.3206\n",
      "Epoch [3/10], Step [1200/1875], Loss: 2.3023\n",
      "Epoch [3/10], Step [1600/1875], Loss: 2.3312\n",
      "Epoch [4/10], Step [400/1875], Loss: 2.3091\n",
      "Epoch [4/10], Step [800/1875], Loss: 2.3211\n",
      "Epoch [4/10], Step [1200/1875], Loss: 2.3267\n",
      "Epoch [4/10], Step [1600/1875], Loss: 2.3045\n",
      "Epoch [5/10], Step [400/1875], Loss: 2.3051\n",
      "Epoch [5/10], Step [800/1875], Loss: 2.3036\n",
      "Epoch [5/10], Step [1200/1875], Loss: 2.3245\n",
      "Epoch [5/10], Step [1600/1875], Loss: 2.2959\n",
      "Epoch [6/10], Step [400/1875], Loss: 2.3185\n",
      "Epoch [6/10], Step [800/1875], Loss: 2.2847\n",
      "Epoch [6/10], Step [1200/1875], Loss: 2.3448\n",
      "Epoch [6/10], Step [1600/1875], Loss: 2.2901\n",
      "Epoch [7/10], Step [400/1875], Loss: 2.2826\n",
      "Epoch [7/10], Step [800/1875], Loss: 2.3118\n",
      "Epoch [7/10], Step [1200/1875], Loss: 2.3193\n",
      "Epoch [7/10], Step [1600/1875], Loss: 2.2952\n",
      "Epoch [8/10], Step [400/1875], Loss: 2.2998\n",
      "Epoch [8/10], Step [800/1875], Loss: 2.2837\n",
      "Epoch [8/10], Step [1200/1875], Loss: 2.3177\n",
      "Epoch [8/10], Step [1600/1875], Loss: 2.3163\n",
      "Epoch [9/10], Step [400/1875], Loss: 2.2719\n",
      "Epoch [9/10], Step [800/1875], Loss: 2.2512\n",
      "Epoch [9/10], Step [1200/1875], Loss: 2.3171\n",
      "Epoch [9/10], Step [1600/1875], Loss: 2.3462\n",
      "Epoch [10/10], Step [400/1875], Loss: 2.2895\n",
      "Epoch [10/10], Step [800/1875], Loss: 2.3230\n",
      "Epoch [10/10], Step [1200/1875], Loss: 2.3377\n",
      "Epoch [10/10], Step [1600/1875], Loss: 2.3180\n"
     ]
    }
   ],
   "source": [
    "total_step = len(train_loader)\n",
    "for epoch in range(num_epochs):\n",
    "    for i, (images, labels) in enumerate(train_loader):  \n",
    "        images = images.to(device)\n",
    "        labels = labels.to(device)\n",
    "        \n",
    "        #Forward pass\n",
    "        outputs = model(images)\n",
    "        loss = cost(outputs, labels)\n",
    "        \t\n",
    "        # Backward and optimize\n",
    "        optimizer.zero_grad()\n",
    "        loss.backward()\n",
    "        optimizer.step()\n",
    "        \t\t\n",
    "        if (i+1) % 400 == 0:\n",
    "            print ('Epoch [{}/{}], Step [{}/{}], Loss: {:.4f}' \n",
    "        \t\t           .format(epoch+1, num_epochs, i+1, total_step, loss.item()))\n"
   ]
  },
  {
   "cell_type": "code",
   "execution_count": 7,
   "id": "5161536f",
   "metadata": {},
   "outputs": [
    {
     "name": "stdout",
     "output_type": "stream",
     "text": [
      "[ADAM]:Accuracy of the network on the 10000 test images: 11.35 %\n"
     ]
    }
   ],
   "source": [
    "# Test the model\n",
    "# In test phase, we don't need to compute gradients (for memory efficiency)\n",
    "  \n",
    "with torch.no_grad():\n",
    "    correct = 0\n",
    "    total = 0\n",
    "    for images, labels in test_loader:\n",
    "        images = images.to(device)\n",
    "        labels = labels.to(device)\n",
    "        outputs = model(images)\n",
    "        _, predicted = torch.max(outputs.data, 1)\n",
    "        total += labels.size(0)\n",
    "        correct += (predicted == labels).sum().item()\n",
    "\n",
    "    print('[ADAM]:Accuracy of the network on the 10000 test images: {} %'.format(100 * correct / total))\n",
    "\t "
   ]
  },
  {
   "cell_type": "code",
   "execution_count": 8,
   "id": "220101c2",
   "metadata": {},
   "outputs": [],
   "source": [
    "model = LeNet5(num_classes).to(device)\n",
    "\n",
    "#Setting the loss function\n",
    "cost = nn.CrossEntropyLoss()\n",
    "\n",
    "#Setting the optimizer with the model parameters and learning rate\n",
    "optimizer = torch.optim.AdamW(model.parameters(), lr=learning_rate)\n",
    "# Adamw, SGD\n",
    "#this is defined to print how many steps are remaining when training\n",
    "total_step = len(train_loader)"
   ]
  },
  {
   "cell_type": "code",
   "execution_count": 9,
   "id": "cc68d5d7",
   "metadata": {},
   "outputs": [
    {
     "name": "stdout",
     "output_type": "stream",
     "text": [
      "Epoch [1/10], Step [400/1875], Loss: 1.3265\n",
      "Epoch [1/10], Step [800/1875], Loss: 1.5723\n",
      "Epoch [1/10], Step [1200/1875], Loss: 0.9086\n",
      "Epoch [1/10], Step [1600/1875], Loss: 1.2276\n",
      "Epoch [2/10], Step [400/1875], Loss: 0.3788\n",
      "Epoch [2/10], Step [800/1875], Loss: 0.6154\n",
      "Epoch [2/10], Step [1200/1875], Loss: 0.3672\n",
      "Epoch [2/10], Step [1600/1875], Loss: 0.6883\n",
      "Epoch [3/10], Step [400/1875], Loss: 0.7327\n",
      "Epoch [3/10], Step [800/1875], Loss: 0.5002\n",
      "Epoch [3/10], Step [1200/1875], Loss: 0.4583\n",
      "Epoch [3/10], Step [1600/1875], Loss: 0.3812\n",
      "Epoch [4/10], Step [400/1875], Loss: 0.5247\n",
      "Epoch [4/10], Step [800/1875], Loss: 0.2619\n",
      "Epoch [4/10], Step [1200/1875], Loss: 0.3992\n",
      "Epoch [4/10], Step [1600/1875], Loss: 0.7119\n",
      "Epoch [5/10], Step [400/1875], Loss: 0.7881\n",
      "Epoch [5/10], Step [800/1875], Loss: 0.5676\n",
      "Epoch [5/10], Step [1200/1875], Loss: 0.4293\n",
      "Epoch [5/10], Step [1600/1875], Loss: 1.1699\n",
      "Epoch [6/10], Step [400/1875], Loss: 0.4367\n",
      "Epoch [6/10], Step [800/1875], Loss: 0.7820\n",
      "Epoch [6/10], Step [1200/1875], Loss: 0.6680\n",
      "Epoch [6/10], Step [1600/1875], Loss: 0.2876\n",
      "Epoch [7/10], Step [400/1875], Loss: 0.8623\n",
      "Epoch [7/10], Step [800/1875], Loss: 0.7655\n",
      "Epoch [7/10], Step [1200/1875], Loss: 0.8881\n",
      "Epoch [7/10], Step [1600/1875], Loss: 0.5138\n",
      "Epoch [8/10], Step [400/1875], Loss: 0.6071\n",
      "Epoch [8/10], Step [800/1875], Loss: 0.6462\n",
      "Epoch [8/10], Step [1200/1875], Loss: 0.6874\n",
      "Epoch [8/10], Step [1600/1875], Loss: 0.6602\n",
      "Epoch [9/10], Step [400/1875], Loss: 0.5093\n",
      "Epoch [9/10], Step [800/1875], Loss: 0.2397\n",
      "Epoch [9/10], Step [1200/1875], Loss: 0.6534\n",
      "Epoch [9/10], Step [1600/1875], Loss: 0.2559\n",
      "Epoch [10/10], Step [400/1875], Loss: 1.1200\n",
      "Epoch [10/10], Step [800/1875], Loss: 0.8062\n",
      "Epoch [10/10], Step [1200/1875], Loss: 0.2523\n",
      "Epoch [10/10], Step [1600/1875], Loss: 0.6444\n"
     ]
    }
   ],
   "source": [
    "total_step = len(train_loader)\n",
    "for epoch in range(num_epochs):\n",
    "    for i, (images, labels) in enumerate(train_loader):  \n",
    "        images = images.to(device)\n",
    "        labels = labels.to(device)\n",
    "        \n",
    "        #Forward pass\n",
    "        outputs = model(images)\n",
    "        loss = cost(outputs, labels)\n",
    "        \t\n",
    "        # Backward and optimize\n",
    "        optimizer.zero_grad()\n",
    "        loss.backward()\n",
    "        optimizer.step()\n",
    "        \t\t\n",
    "        if (i+1) % 400 == 0:\n",
    "            print ('Epoch [{}/{}], Step [{}/{}], Loss: {:.4f}' \n",
    "        \t\t           .format(epoch+1, num_epochs, i+1, total_step, loss.item()))\n"
   ]
  },
  {
   "cell_type": "code",
   "execution_count": 10,
   "id": "c1d50c32",
   "metadata": {},
   "outputs": [
    {
     "name": "stdout",
     "output_type": "stream",
     "text": [
      "[ADAMW]:Accuracy of the network on the 10000 test images: 84.54 %\n"
     ]
    }
   ],
   "source": [
    "# Test the model\n",
    "# In test phase, we don't need to compute gradients (for memory efficiency)\n",
    "  \n",
    "with torch.no_grad():\n",
    "    correct = 0\n",
    "    total = 0\n",
    "    for images, labels in test_loader:\n",
    "        images = images.to(device)\n",
    "        labels = labels.to(device)\n",
    "        outputs = model(images)\n",
    "        _, predicted = torch.max(outputs.data, 1)\n",
    "        total += labels.size(0)\n",
    "        correct += (predicted == labels).sum().item()\n",
    "\n",
    "    print('[ADAMW]:Accuracy of the network on the 10000 test images: {} %'.format(100 * correct / total))\n",
    "\t "
   ]
  },
  {
   "cell_type": "code",
   "execution_count": 18,
   "id": "ad3b13e7",
   "metadata": {},
   "outputs": [],
   "source": [
    "model = LeNet5(num_classes).to(device)\n",
    "\n",
    "#Setting the loss function\n",
    "cost = nn.CrossEntropyLoss()\n",
    "\n",
    "#Setting the optimizer with the model parameters and learning rate\n",
    "optimizer = torch.optim.SGD(model.parameters(), lr=learning_rate,momentum=0.9)\n",
    "# Adamw, SGD\n",
    "#this is defined to print how many steps are remaining when training\n",
    "total_step = len(train_loader)"
   ]
  },
  {
   "cell_type": "code",
   "execution_count": 19,
   "id": "e027c872",
   "metadata": {},
   "outputs": [
    {
     "name": "stdout",
     "output_type": "stream",
     "text": [
      "Epoch [1/10], Step [400/1875], Loss: 0.5182\n",
      "Epoch [1/10], Step [800/1875], Loss: 0.3065\n",
      "Epoch [1/10], Step [1200/1875], Loss: 0.2055\n",
      "Epoch [1/10], Step [1600/1875], Loss: 0.0904\n",
      "Epoch [2/10], Step [400/1875], Loss: 0.1288\n",
      "Epoch [2/10], Step [800/1875], Loss: 0.0539\n",
      "Epoch [2/10], Step [1200/1875], Loss: 0.0114\n",
      "Epoch [2/10], Step [1600/1875], Loss: 0.4253\n",
      "Epoch [3/10], Step [400/1875], Loss: 0.0804\n",
      "Epoch [3/10], Step [800/1875], Loss: 0.0339\n",
      "Epoch [3/10], Step [1200/1875], Loss: 0.0120\n",
      "Epoch [3/10], Step [1600/1875], Loss: 0.0342\n",
      "Epoch [4/10], Step [400/1875], Loss: 0.0285\n",
      "Epoch [4/10], Step [800/1875], Loss: 0.1624\n",
      "Epoch [4/10], Step [1200/1875], Loss: 0.0285\n",
      "Epoch [4/10], Step [1600/1875], Loss: 0.0881\n",
      "Epoch [5/10], Step [400/1875], Loss: 0.0159\n",
      "Epoch [5/10], Step [800/1875], Loss: 0.0039\n",
      "Epoch [5/10], Step [1200/1875], Loss: 0.0492\n",
      "Epoch [5/10], Step [1600/1875], Loss: 0.0194\n",
      "Epoch [6/10], Step [400/1875], Loss: 0.0116\n",
      "Epoch [6/10], Step [800/1875], Loss: 0.0033\n",
      "Epoch [6/10], Step [1200/1875], Loss: 0.0021\n",
      "Epoch [6/10], Step [1600/1875], Loss: 0.1135\n",
      "Epoch [7/10], Step [400/1875], Loss: 0.0513\n",
      "Epoch [7/10], Step [800/1875], Loss: 0.0488\n",
      "Epoch [7/10], Step [1200/1875], Loss: 0.0046\n",
      "Epoch [7/10], Step [1600/1875], Loss: 0.0040\n",
      "Epoch [8/10], Step [400/1875], Loss: 0.0126\n",
      "Epoch [8/10], Step [800/1875], Loss: 0.0107\n",
      "Epoch [8/10], Step [1200/1875], Loss: 0.0234\n",
      "Epoch [8/10], Step [1600/1875], Loss: 0.0696\n",
      "Epoch [9/10], Step [400/1875], Loss: 0.0126\n",
      "Epoch [9/10], Step [800/1875], Loss: 0.0551\n",
      "Epoch [9/10], Step [1200/1875], Loss: 0.0072\n",
      "Epoch [9/10], Step [1600/1875], Loss: 0.0004\n",
      "Epoch [10/10], Step [400/1875], Loss: 0.0248\n",
      "Epoch [10/10], Step [800/1875], Loss: 0.0025\n",
      "Epoch [10/10], Step [1200/1875], Loss: 0.0255\n",
      "Epoch [10/10], Step [1600/1875], Loss: 0.0003\n"
     ]
    }
   ],
   "source": [
    "total_step = len(train_loader)\n",
    "for epoch in range(num_epochs):\n",
    "    for i, (images, labels) in enumerate(train_loader):  \n",
    "        images = images.to(device)\n",
    "        labels = labels.to(device)\n",
    "        \n",
    "        #Forward pass\n",
    "        outputs = model(images)\n",
    "        loss = cost(outputs, labels)\n",
    "        \t\n",
    "        # Backward and optimize\n",
    "        optimizer.zero_grad()\n",
    "        loss.backward()\n",
    "        optimizer.step()\n",
    "        \t\t\n",
    "        if (i+1) % 400 == 0:\n",
    "            print ('Epoch [{}/{}], Step [{}/{}], Loss: {:.4f}' \n",
    "        \t\t           .format(epoch+1, num_epochs, i+1, total_step, loss.item()))\n"
   ]
  },
  {
   "cell_type": "code",
   "execution_count": 20,
   "id": "0ebf83ee",
   "metadata": {},
   "outputs": [
    {
     "name": "stdout",
     "output_type": "stream",
     "text": [
      "[SGD]:Accuracy of the network on the 10000 test images: 98.96 %\n"
     ]
    }
   ],
   "source": [
    "# Test the model\n",
    "# In test phase, we don't need to compute gradients (for memory efficiency)\n",
    "  \n",
    "with torch.no_grad():\n",
    "    correct = 0\n",
    "    total = 0\n",
    "    for images, labels in test_loader:\n",
    "        images = images.to(device)\n",
    "        labels = labels.to(device)\n",
    "        outputs = model(images)\n",
    "        _, predicted = torch.max(outputs.data, 1)\n",
    "        total += labels.size(0)\n",
    "        correct += (predicted == labels).sum().item()\n",
    "\n",
    "    print('[SGD]:Accuracy of the network on the 10000 test images: {} %'.format(100 * correct / total))\n",
    "\t "
   ]
  },
  {
   "cell_type": "code",
   "execution_count": null,
   "id": "c4a22b31",
   "metadata": {},
   "outputs": [],
   "source": []
  }
 ],
 "metadata": {
  "kernelspec": {
   "display_name": "Python 3 (ipykernel)",
   "language": "python",
   "name": "python3"
  },
  "language_info": {
   "codemirror_mode": {
    "name": "ipython",
    "version": 3
   },
   "file_extension": ".py",
   "mimetype": "text/x-python",
   "name": "python",
   "nbconvert_exporter": "python",
   "pygments_lexer": "ipython3",
   "version": "3.10.7"
  }
 },
 "nbformat": 4,
 "nbformat_minor": 5
}
