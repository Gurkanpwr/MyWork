{
 "cells": [
  {
   "cell_type": "code",
   "execution_count": 1,
   "id": "3acb1bd4",
   "metadata": {},
   "outputs": [],
   "source": [
    "import cv2\n",
    "import glob\n",
    "import numpy"
   ]
  },
  {
   "cell_type": "code",
   "execution_count": null,
   "id": "e7730f5f",
   "metadata": {},
   "outputs": [],
   "source": [
    "images = glob.glob(\"path/**/*.jpg\",recursive =True)\n",
    "\n",
    "for im in images:\n",
    "    img=cv2.imread(im,1)\n",
    "    resized=img.resize(img,(30,30))\n",
    "    cv2.imshow(\"Picture\",resized)\n",
    "    img=cv2.imwrite(\"path\"+im,resized)\n",
    "    cv2.waitKey()\n",
    "    cv2.DestroyAllWindows()"
   ]
  }
 ],
 "metadata": {
  "kernelspec": {
   "display_name": "Python 3 (ipykernel)",
   "language": "python",
   "name": "python3"
  },
  "language_info": {
   "codemirror_mode": {
    "name": "ipython",
    "version": 3
   },
   "file_extension": ".py",
   "mimetype": "text/x-python",
   "name": "python",
   "nbconvert_exporter": "python",
   "pygments_lexer": "ipython3",
   "version": "3.10.7"
  }
 },
 "nbformat": 4,
 "nbformat_minor": 5
}
