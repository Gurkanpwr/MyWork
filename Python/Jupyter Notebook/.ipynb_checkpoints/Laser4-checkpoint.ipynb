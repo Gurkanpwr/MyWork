{
 "cells": [
  {
   "cell_type": "code",
   "execution_count": 3,
   "id": "10185531",
   "metadata": {},
   "outputs": [],
   "source": [
    "import pandas as pd\n",
    "import matplotlib.pyplot as plt\n",
    "import openpyxl"
   ]
  },
  {
   "cell_type": "code",
   "execution_count": 31,
   "id": "f912cc5e",
   "metadata": {},
   "outputs": [],
   "source": [
    "# HALF Pump Power\n",
    "df_half=pd.read_excel(\"halfpump.xlsx\")\n",
    "Hfrequency=df_half[\"Frequency\"].values\n",
    "HPpeak=df_half[\"PulsePeak\"].values\n",
    "HfPduration=df_half[\"PulseDuration\"].values\n",
    "HPdelay=df_half[\"PulseDelay\"].values\n",
    "\n"
   ]
  },
  {
   "cell_type": "code",
   "execution_count": 32,
   "id": "083040d1",
   "metadata": {},
   "outputs": [
    {
     "data": {
      "text/plain": [
       "array([  20,   35,   50,   70,  100,  150,  200,  350,  500,  700, 1000,\n",
       "       1500, 2000, 3500, 5000], dtype=int64)"
      ]
     },
     "execution_count": 32,
     "metadata": {},
     "output_type": "execute_result"
    }
   ],
   "source": [
    "#Full pump power\n"
   ]
  },
  {
   "cell_type": "code",
   "execution_count": null,
   "id": "9a6ebeb7",
   "metadata": {},
   "outputs": [],
   "source": []
  }
 ],
 "metadata": {
  "kernelspec": {
   "display_name": "Python 3 (ipykernel)",
   "language": "python",
   "name": "python3"
  },
  "language_info": {
   "codemirror_mode": {
    "name": "ipython",
    "version": 3
   },
   "file_extension": ".py",
   "mimetype": "text/x-python",
   "name": "python",
   "nbconvert_exporter": "python",
   "pygments_lexer": "ipython3",
   "version": "3.10.7"
  }
 },
 "nbformat": 4,
 "nbformat_minor": 5
}
